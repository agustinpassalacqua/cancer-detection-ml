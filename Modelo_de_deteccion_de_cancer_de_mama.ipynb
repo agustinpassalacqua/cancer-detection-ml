{
  "nbformat": 4,
  "nbformat_minor": 0,
  "metadata": {
    "colab": {
      "provenance": []
    },
    "kernelspec": {
      "name": "python3",
      "display_name": "Python 3"
    },
    "language_info": {
      "name": "python"
    }
  },
  "cells": [
    {
      "cell_type": "code",
      "execution_count": 1,
      "metadata": {
        "id": "pcVtBuTpbD4z"
      },
      "outputs": [],
      "source": [
        "import numpy as np\n",
        "import pandas as pd\n",
        "import matplotlib.pyplot as plt\n",
        "\n",
        "from sklearn.model_selection import train_test_split, KFold, GridSearchCV, cross_val_score, ParameterGrid, RandomizedSearchCV,StratifiedKFold\n",
        "from sklearn.tree import DecisionTreeClassifier\n",
        "from sklearn.metrics import recall_score, roc_auc_score\n",
        "from sklearn.neighbors import KNeighborsClassifier\n",
        "from sklearn.svm import SVC\n",
        "from sklearn.discriminant_analysis import LinearDiscriminantAnalysis\n",
        "from sklearn.naive_bayes import GaussianNB\n",
        "from sklearn.preprocessing import StandardScaler\n",
        "from sklearn.ensemble import RandomForestClassifier\n",
        "\n",
        "from sklearn.pipeline import Pipeline\n",
        "from sklearn.impute import SimpleImputer\n",
        "\n",
        "seed = 72"
      ]
    },
    {
      "cell_type": "code",
      "source": [
        "data   = pd.read_csv(\"data.csv\")\n",
        "data = data.dropna(axis=1, how='all')"
      ],
      "metadata": {
        "id": "f7MGXodve0iZ"
      },
      "execution_count": 2,
      "outputs": []
    },
    {
      "cell_type": "markdown",
      "source": [
        "##Se separan los datos para testeo y validacion"
      ],
      "metadata": {
        "id": "w_sGy-5WelnG"
      }
    },
    {
      "cell_type": "code",
      "source": [
        "X = data.drop(columns=data.columns[1])\n",
        "y = data.iloc[:, 1]\n",
        "\n",
        "X_train, X_test, y_train, y_test = train_test_split(\n",
        "    X, y,\n",
        "    test_size=0.2,\n",
        "    stratify=y,\n",
        "    random_state=seed\n",
        ")"
      ],
      "metadata": {
        "id": "BstSNKTQbhES"
      },
      "execution_count": 3,
      "outputs": []
    },
    {
      "cell_type": "markdown",
      "source": [
        "##Se selecciona el mejor modelo que mejor generaliza el problema\n"
      ],
      "metadata": {
        "id": "IjrlvHAhfjd-"
      }
    },
    {
      "cell_type": "code",
      "source": [
        "#-------------------------------------------------------------------------------------\n",
        "\n",
        "arbol = DecisionTreeClassifier(random_state=seed)\n",
        "param_dist = {\n",
        "    'max_depth': [3, 4, 5, 10, 15, 20],\n",
        "    'min_samples_split': [2, 5, 10, 20],\n",
        "    'min_samples_leaf': [1, 2, 5, 10, 15],\n",
        "    'criterion': ['gini', 'entropy'],\n",
        "    'ccp_alpha': [0.0, 0.01, 0.02, 0.05]\n",
        "}\n",
        "search = RandomizedSearchCV(\n",
        "    estimator=arbol,\n",
        "    param_distributions=param_dist,\n",
        "    n_iter=20,\n",
        "    scoring='roc_auc',\n",
        "    cv=5,\n",
        "    random_state=seed,\n",
        ")\n",
        "search.fit(X_train, y_train.values.ravel())\n",
        "print()\n",
        "print(\"Mejores hiperparámetros para arbol de decision:\")\n",
        "print(search.best_params_)\n",
        "print()\n",
        "print(\"Mejor score:\")\n",
        "print(search.best_score_)\n",
        "\n",
        "#-------------------------------------------------------------------------------------"
      ],
      "metadata": {
        "colab": {
          "base_uri": "https://localhost:8080/"
        },
        "id": "BKi6-QjxfBse",
        "outputId": "6b0449fa-4917-4b6a-bb92-68d08bdbae4c"
      },
      "execution_count": 4,
      "outputs": [
        {
          "output_type": "stream",
          "name": "stdout",
          "text": [
            "\n",
            "Mejores hiperparámetros para arbol de decision:\n",
            "{'min_samples_split': 2, 'min_samples_leaf': 15, 'max_depth': 20, 'criterion': 'entropy', 'ccp_alpha': 0.01}\n",
            "\n",
            "Mejor score:\n",
            "0.9738390092879257\n"
          ]
        }
      ]
    },
    {
      "cell_type": "code",
      "source": [
        "#-------------------------------------------------------------------------------------\n",
        "\n",
        "pipeline_svm = Pipeline([\n",
        "    ('imputer', SimpleImputer(strategy='mean')),\n",
        "    ('scaler', StandardScaler()),\n",
        "    ('svm', SVC(probability=True, random_state=seed))\n",
        "])\n",
        "\n",
        "param_dist_svm = {\n",
        "    'svm__C': [0.1, 1, 10, 100],\n",
        "    'svm__kernel': ['linear', 'rbf', 'poly'],\n",
        "    'svm__gamma': ['scale', 'auto']\n",
        "}\n",
        "\n",
        "search_svm = RandomizedSearchCV(\n",
        "    estimator=pipeline_svm,\n",
        "    param_distributions=param_dist_svm,\n",
        "    n_iter=10,\n",
        "    scoring='roc_auc',\n",
        "    cv=5,\n",
        "    random_state=seed\n",
        ")\n",
        "\n",
        "search_svm.fit(X_train, y_train.values.ravel())\n",
        "\n",
        "print(\"Mejores hiperparámetros para SVM:\")\n",
        "print(search_svm.best_params_)\n",
        "print(\"Mejor score para SVM:\")\n",
        "print(search_svm.best_score_)\n",
        "\n",
        "#-------------------------------------------------------------------------------------"
      ],
      "metadata": {
        "colab": {
          "base_uri": "https://localhost:8080/"
        },
        "id": "ynGnl7DOkt8y",
        "outputId": "1a9ae59a-b613-44a3-a2a4-0a08c1ca93f9"
      },
      "execution_count": 5,
      "outputs": [
        {
          "output_type": "stream",
          "name": "stdout",
          "text": [
            "Mejores hiperparámetros para SVM:\n",
            "{'svm__kernel': 'linear', 'svm__gamma': 'scale', 'svm__C': 1}\n",
            "Mejor score para SVM:\n",
            "0.9933952528379774\n"
          ]
        }
      ]
    },
    {
      "cell_type": "code",
      "source": [
        "#-------------------------------------------------------------------------------------\n",
        "\n",
        "pipeline_knn = Pipeline([\n",
        "    ('imputer', SimpleImputer(strategy='mean')),\n",
        "    ('scaler', StandardScaler()),\n",
        "    ('knn', KNeighborsClassifier())\n",
        "])\n",
        "\n",
        "param_dist_knn = {\n",
        "    'knn__n_neighbors': list(range(1, 31)),\n",
        "    'knn__weights': ['uniform', 'distance'],\n",
        "    'knn__metric': ['euclidean', 'manhattan', 'minkowski']\n",
        "}\n",
        "\n",
        "search_knn = RandomizedSearchCV(\n",
        "    estimator=pipeline_knn,\n",
        "    param_distributions=param_dist_knn,\n",
        "    n_iter=30,\n",
        "    scoring='roc_auc',\n",
        "    cv=5,\n",
        "    random_state=seed\n",
        ")\n",
        "\n",
        "search_knn.fit(X_train, y_train.values.ravel())\n",
        "\n",
        "print()\n",
        "print(\"Mejores hiperparámetros para KNN:\")\n",
        "print(search_knn.best_params_)\n",
        "print()\n",
        "print(\"Mejor score para KNN:\")\n",
        "print(search_knn.best_score_)\n",
        "\n",
        "#-------------------------------------------------------------------------------------"
      ],
      "metadata": {
        "colab": {
          "base_uri": "https://localhost:8080/"
        },
        "id": "HggWvDPKkxDL",
        "outputId": "eaa5163c-13a3-4b71-dfe3-c77a43281fd0"
      },
      "execution_count": 6,
      "outputs": [
        {
          "output_type": "stream",
          "name": "stdout",
          "text": [
            "\n",
            "Mejores hiperparámetros para KNN:\n",
            "{'knn__weights': 'distance', 'knn__n_neighbors': 12, 'knn__metric': 'euclidean'}\n",
            "\n",
            "Mejor score para KNN:\n",
            "0.9915376676986585\n"
          ]
        }
      ]
    },
    {
      "cell_type": "code",
      "source": [
        "#-------------------------------------------------------------------------------------\n",
        "\n",
        "lda = LinearDiscriminantAnalysis()\n",
        "y_train_1d = y_train.squeeze()\n",
        "lda.fit(X_train, y_train_1d)\n",
        "y_proba_lda = lda.predict_proba(X_test)[:, 1]\n",
        "auc_lda = roc_auc_score(y_test, y_proba_lda)\n",
        "print(\"performance para LDA:\", auc_lda)\n",
        "\n",
        "#-------------------------------------------------------------------------------------\n",
        "\n",
        "nb = GaussianNB()\n",
        "nb.fit(X_train, y_train_1d)\n",
        "y_proba_nb = nb.predict_proba(X_test)[:, 1]\n",
        "auc_nb = roc_auc_score(y_test, y_proba_nb)\n",
        "print(\"performance para Naive Bayes:\", auc_nb)\n",
        "\n",
        "#-------------------------------------------------------------------------------------"
      ],
      "metadata": {
        "colab": {
          "base_uri": "https://localhost:8080/"
        },
        "id": "Q7mveHXtk1jQ",
        "outputId": "a48abe6f-945d-4400-f368-d56600edeaff"
      },
      "execution_count": 7,
      "outputs": [
        {
          "output_type": "stream",
          "name": "stdout",
          "text": [
            "performance para LDA: 0.9811507936507937\n",
            "performance para Naive Bayes: 0.8134920634920635\n"
          ]
        }
      ]
    },
    {
      "cell_type": "code",
      "source": [
        "#-------------------------------------------------------------------------------------\n",
        "\n",
        "pipeline_rf = Pipeline([\n",
        "    ('imputer', SimpleImputer(strategy='mean')),\n",
        "    ('scaler', StandardScaler()),\n",
        "    ('rf', RandomForestClassifier(random_state=seed))\n",
        "])\n",
        "\n",
        "param_dist_rf = {\n",
        "    'rf__n_estimators': [50, 100, 200, 300],\n",
        "    'rf__max_depth': [None, 5, 10, 20, 30],\n",
        "    'rf__min_samples_split': [2, 5, 10],\n",
        "    'rf__min_samples_leaf': [1, 2, 4],\n",
        "    'rf__bootstrap': [True, False],\n",
        "    'rf__max_features': ['sqrt', 'log2', None]\n",
        "}\n",
        "\n",
        "search_rf = RandomizedSearchCV(\n",
        "    estimator=pipeline_rf,\n",
        "    param_distributions=param_dist_rf,\n",
        "    n_iter=30,\n",
        "    scoring='roc_auc',\n",
        "    cv=5,\n",
        "    random_state=seed,\n",
        "    n_jobs=-1\n",
        ")\n",
        "\n",
        "search_rf.fit(X_train, y_train.values.ravel())\n",
        "\n",
        "print()\n",
        "print(\"Mejores hiperparámetros para Random Forest:\")\n",
        "print(search_rf.best_params_)\n",
        "print()\n",
        "print(\"Mejor score para Random Forest:\")\n",
        "print(search_rf.best_score_)\n",
        "\n",
        "#-------------------------------------------------------------------------------------"
      ],
      "metadata": {
        "colab": {
          "base_uri": "https://localhost:8080/"
        },
        "id": "WGaFEOhKcIxE",
        "outputId": "5a11e0ac-a70e-4d45-dba5-60d96a8b1d1c"
      },
      "execution_count": 8,
      "outputs": [
        {
          "output_type": "stream",
          "name": "stdout",
          "text": [
            "\n",
            "Mejores hiperparámetros para Random Forest:\n",
            "{'rf__n_estimators': 200, 'rf__min_samples_split': 2, 'rf__min_samples_leaf': 2, 'rf__max_features': 'sqrt', 'rf__max_depth': 10, 'rf__bootstrap': True}\n",
            "\n",
            "Mejor score para Random Forest:\n",
            "0.9921568627450981\n"
          ]
        }
      ]
    },
    {
      "cell_type": "markdown",
      "source": [
        "##Validacion del modelo"
      ],
      "metadata": {
        "id": "46-zi0bapwl2"
      }
    },
    {
      "cell_type": "code",
      "source": [
        "best_svm = Pipeline([\n",
        "    ('imputer', SimpleImputer(strategy='mean')),\n",
        "    ('scaler', StandardScaler()),\n",
        "    ('svm', SVC(C=1, probability=True, gamma='scale',kernel='linear', random_state=seed))\n",
        "])"
      ],
      "metadata": {
        "id": "QhiBw8wKpugz"
      },
      "execution_count": 10,
      "outputs": []
    },
    {
      "cell_type": "code",
      "source": [
        "y_train_bin = y_train.replace({'M': 1, 'B': 0})\n",
        "y_test_bin = y_test.replace({'M': 1, 'B': 0})\n",
        "\n",
        "best_svm.fit(X_train, y_train_bin.values.ravel())\n",
        "y_pred_svm = best_svm.predict(X_test)\n",
        "\n",
        "y_pred_bin = pd.Series(y_pred_svm).replace({'M': 1, 'B': 0})\n",
        "\n",
        "auc_svm = np.round(roc_auc_score(y_test_bin, y_pred_bin), 4)\n",
        "recall_svm = np.round(recall_score(y_test_bin, y_pred_bin), 4)\n",
        "\n",
        "print(\"AUCROC:\", auc_svm)\n",
        "print(\"Recall:\", recall_svm)"
      ],
      "metadata": {
        "colab": {
          "base_uri": "https://localhost:8080/"
        },
        "id": "5shaEDcpvQw5",
        "outputId": "700712ab-a6e7-44d6-cc09-66c80227afe9"
      },
      "execution_count": 12,
      "outputs": [
        {
          "output_type": "stream",
          "name": "stdout",
          "text": [
            "AUCROC: 0.9385\n",
            "Recall: 0.9048\n"
          ]
        },
        {
          "output_type": "stream",
          "name": "stderr",
          "text": [
            "<ipython-input-12-08afb307b09a>:1: FutureWarning: Downcasting behavior in `replace` is deprecated and will be removed in a future version. To retain the old behavior, explicitly call `result.infer_objects(copy=False)`. To opt-in to the future behavior, set `pd.set_option('future.no_silent_downcasting', True)`\n",
            "  y_train_bin = y_train.replace({'M': 1, 'B': 0})\n",
            "<ipython-input-12-08afb307b09a>:2: FutureWarning: Downcasting behavior in `replace` is deprecated and will be removed in a future version. To retain the old behavior, explicitly call `result.infer_objects(copy=False)`. To opt-in to the future behavior, set `pd.set_option('future.no_silent_downcasting', True)`\n",
            "  y_test_bin = y_test.replace({'M': 1, 'B': 0})\n"
          ]
        }
      ]
    }
  ]
}